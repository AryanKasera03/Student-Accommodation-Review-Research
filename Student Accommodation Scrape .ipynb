{
 "cells": [
  {
   "cell_type": "code",
   "execution_count": 1,
   "id": "30427e39",
   "metadata": {},
   "outputs": [],
   "source": [
    "import pandas as pd\n",
    "from bs4 import Tag\n",
    "from bs4 import BeautifulSoup\n",
    "import requests"
   ]
  },
  {
   "cell_type": "code",
   "execution_count": 3,
   "id": "f6321e19",
   "metadata": {},
   "outputs": [],
   "source": [
    "#Site link to get data from\n",
    "main_site = \"https://www.studentcrowd.com/\"\n",
    "\n",
    "#Hub page to get links to university halls\n",
    "main_link = \"https://www.studentcrowd.com/best-halls-l1001909-s1008497-the_university_of_warwick-coventry\"\n",
    "\n",
    "main_page = requests.get(main_link)\n",
    "main_soup = BeautifulSoup(main_page.content, 'html.parser')"
   ]
  },
  {
   "cell_type": "code",
   "execution_count": 5,
   "id": "d3edae53",
   "metadata": {},
   "outputs": [],
   "source": [
    "#soup.find_all(class_ = \"container\")\n",
    "\n",
    "links = main_soup.find_all('a')\n",
    "url_list = []\n",
    "for i in range(len(links)):\n",
    "  link = links[i]          # get the first link in the entire page\n",
    "  url = link['href']\n",
    "\n",
    "  if url.startswith(\"hall\"):\n",
    "    url_list.append(url)    # get value of the href attribute\n",
    "\n",
    "#url_list is a list containing all urls for main_site"
   ]
  },
  {
   "cell_type": "code",
   "execution_count": 7,
   "id": "5f30e98c",
   "metadata": {},
   "outputs": [],
   "source": [
    "#Open up individual accommadation review site a\n",
    "\n",
    "a = 0\n",
    "\n",
    "review_page = requests.get(main_site + url_list[a])\n",
    "review_soup = BeautifulSoup(review_page.content, 'html.parser')\n",
    "#review_soup.prettify"
   ]
  },
  {
   "cell_type": "code",
   "execution_count": 8,
   "id": "a260dad0",
   "metadata": {},
   "outputs": [
    {
     "data": {
      "text/plain": [
       "'Urban Student Village'"
      ]
     },
     "execution_count": 8,
     "metadata": {},
     "output_type": "execute_result"
    }
   ],
   "source": [
    "#Get name of accommodation\n",
    "\n",
    "review_soup.select(\".cb\")[0].get_text()"
   ]
  },
  {
   "cell_type": "code",
   "execution_count": 44,
   "id": "2669ef6b",
   "metadata": {},
   "outputs": [],
   "source": [
    "#Get list of all reviews and replies\n",
    "review_list = []\n",
    "for i in range(7,len(review_soup.select(\".cb\")),2):\n",
    "  review_text = review_soup.select(\".cb\")[i].get_text()\n",
    "  #Every review has the string 'more...' at the end. Drop last 7 characters from every text\n",
    "  review_list.append(review_text[:-7])\n",
    "#Get list of all replies\n",
    "reply_list = []\n",
    "for i in range(1,len(review_soup.select(\".js-review-reply\"))):\n",
    "  review_text = review_soup.select(\".js-review-reply\")[i].get_text()\n",
    "  #Every review has the string 'more...' at the end. Drop last 7 characters from every text\n",
    "  reply_list.append(review_text[:-7])"
   ]
  },
  {
   "cell_type": "code",
   "execution_count": 45,
   "id": "e4ba4bab",
   "metadata": {},
   "outputs": [
    {
     "data": {
      "text/plain": [
       "['I loved ringway house as soon as i had my viewing, the space, the location and especially the management (Dorota and sarah) who have been wonderful',\n",
       " 'I’ve never seen a property that clean and cosy.\\nThanks to Dorota for helping me even when she doesn’t work. She’s always available.',\n",
       " 'Ringway House is located in a really convenient location, close to bus stops to get to uni and the city centre for all your shopping needs. My studio is spacious and I have an amazing view of the city. The property team is lovely and friendly as well.',\n",
       " 'I love this place been a blast since I moved in September and it’s only gone better as my journey continues with ringway house. Will definitely recommend this to any student without a shadow of a doubt and love to thank the management team (Dorota) for making my stay so pleasantt',\n",
       " 'Great staff for the most part, but very unpleasant stay. Constant, CONSTANT issues with water, heating, plumbing, general falling apart of the room, lighting, only a couple of weeks after I moved in. Higher management didn’t seem to care about the issues I and plenty other residents had/still have. Staff didn’t tell me when a repair I had was due and entered my room while I was out which is very concerning and an invasion of privacy and didn’t say anything when I said as much - again didn’t seem to care. Some tenants very rude and disrespectful without cause - touching my clothes, verbal abuse, staff were aware and didn’t care, overall awful stay I would highly recommend avoiding this place for your stay, as I have said to every other Uni student I know here out of genuine concern for them.',\n",
       " 'Lovely management with lovely management, would highly recommend, it’s the little things that count and they’re always working around the clock. Nice rooms also very good value for money']"
      ]
     },
     "execution_count": 45,
     "metadata": {},
     "output_type": "execute_result"
    }
   ],
   "source": [
    "review_list = list(set(review_list) -  set(reply_list))\n",
    "review_list"
   ]
  },
  {
   "cell_type": "code",
   "execution_count": 13,
   "id": "45c247dd",
   "metadata": {},
   "outputs": [
    {
     "data": {
      "text/plain": [
       "[[5, 1, 5, 4, 5, 5],\n",
       " [5, 4, 5, 5, 5, 5],\n",
       " [5, 3, 5, 5, 5, 5],\n",
       " [5, 3, 5, 5, 5, 5],\n",
       " [5, 4, 5, 5, 5, 5],\n",
       " [5, 1, 5, 4, 5, 5],\n",
       " [5, 4, 5, 5, 5, 5]]"
      ]
     },
     "execution_count": 13,
     "metadata": {},
     "output_type": "execute_result"
    }
   ],
   "source": [
    "#Each review consists of 7 stars, so we group the stars based on the review it is attached to\n",
    "#NOTE that 1st review is the 'most helpful' review and so is duplicated. That is why i starts at 7.\n",
    "\n",
    "Value_for_money = []\n",
    "Location = []\n",
    "Property_management = []\n",
    "Cleaning =[]\n",
    "Social_spaces = []\n",
    "Social_experience = [] \n",
    "Internet = []\n",
    "\n",
    "rating_list = [Value_for_money, Location, Property_management, \n",
    "               Cleaning, Social_spaces, Social_experience, Internet]\n",
    "\n",
    "for i in range(7,len(review_soup.select(\".stars\"))):\n",
    "  #Set star = ith star\n",
    "  star = int(review_soup.select(\".stars\")[i]['class'][1][-1])\n",
    "  rating_list[i%7].append(star)\n",
    "\n",
    "rating_list"
   ]
  },
  {
   "cell_type": "code",
   "execution_count": 49,
   "id": "b3af4140",
   "metadata": {},
   "outputs": [
    {
     "data": {
      "text/html": [
       "<div>\n",
       "<style scoped>\n",
       "    .dataframe tbody tr th:only-of-type {\n",
       "        vertical-align: middle;\n",
       "    }\n",
       "\n",
       "    .dataframe tbody tr th {\n",
       "        vertical-align: top;\n",
       "    }\n",
       "\n",
       "    .dataframe thead th {\n",
       "        text-align: right;\n",
       "    }\n",
       "</style>\n",
       "<table border=\"1\" class=\"dataframe\">\n",
       "  <thead>\n",
       "    <tr style=\"text-align: right;\">\n",
       "      <th></th>\n",
       "      <th>Value_for_money</th>\n",
       "      <th>Location</th>\n",
       "      <th>Property_management</th>\n",
       "      <th>Cleaning</th>\n",
       "      <th>Social_spaces</th>\n",
       "      <th>Social_experience</th>\n",
       "      <th>Internet</th>\n",
       "      <th>Review</th>\n",
       "    </tr>\n",
       "  </thead>\n",
       "  <tbody>\n",
       "    <tr>\n",
       "      <th>0</th>\n",
       "      <td>5</td>\n",
       "      <td>5</td>\n",
       "      <td>5</td>\n",
       "      <td>5</td>\n",
       "      <td>5</td>\n",
       "      <td>5</td>\n",
       "      <td>5</td>\n",
       "      <td>I loved ringway house as soon as i had my view...</td>\n",
       "    </tr>\n",
       "    <tr>\n",
       "      <th>1</th>\n",
       "      <td>1</td>\n",
       "      <td>4</td>\n",
       "      <td>3</td>\n",
       "      <td>3</td>\n",
       "      <td>4</td>\n",
       "      <td>1</td>\n",
       "      <td>4</td>\n",
       "      <td>I’ve never seen a property that clean and cosy...</td>\n",
       "    </tr>\n",
       "    <tr>\n",
       "      <th>2</th>\n",
       "      <td>5</td>\n",
       "      <td>5</td>\n",
       "      <td>5</td>\n",
       "      <td>5</td>\n",
       "      <td>5</td>\n",
       "      <td>5</td>\n",
       "      <td>5</td>\n",
       "      <td>Ringway House is located in a really convenien...</td>\n",
       "    </tr>\n",
       "    <tr>\n",
       "      <th>3</th>\n",
       "      <td>4</td>\n",
       "      <td>5</td>\n",
       "      <td>5</td>\n",
       "      <td>5</td>\n",
       "      <td>5</td>\n",
       "      <td>4</td>\n",
       "      <td>5</td>\n",
       "      <td>I love this place been a blast since I moved i...</td>\n",
       "    </tr>\n",
       "    <tr>\n",
       "      <th>4</th>\n",
       "      <td>5</td>\n",
       "      <td>5</td>\n",
       "      <td>5</td>\n",
       "      <td>5</td>\n",
       "      <td>5</td>\n",
       "      <td>5</td>\n",
       "      <td>5</td>\n",
       "      <td>Great staff for the most part, but very unplea...</td>\n",
       "    </tr>\n",
       "    <tr>\n",
       "      <th>5</th>\n",
       "      <td>5</td>\n",
       "      <td>5</td>\n",
       "      <td>5</td>\n",
       "      <td>5</td>\n",
       "      <td>5</td>\n",
       "      <td>5</td>\n",
       "      <td>5</td>\n",
       "      <td>Lovely management with lovely management, woul...</td>\n",
       "    </tr>\n",
       "  </tbody>\n",
       "</table>\n",
       "</div>"
      ],
      "text/plain": [
       "   Value_for_money  Location  Property_management  Cleaning  Social_spaces  \\\n",
       "0                5         5                    5         5              5   \n",
       "1                1         4                    3         3              4   \n",
       "2                5         5                    5         5              5   \n",
       "3                4         5                    5         5              5   \n",
       "4                5         5                    5         5              5   \n",
       "5                5         5                    5         5              5   \n",
       "\n",
       "   Social_experience  Internet  \\\n",
       "0                  5         5   \n",
       "1                  1         4   \n",
       "2                  5         5   \n",
       "3                  4         5   \n",
       "4                  5         5   \n",
       "5                  5         5   \n",
       "\n",
       "                                              Review  \n",
       "0  I loved ringway house as soon as i had my view...  \n",
       "1  I’ve never seen a property that clean and cosy...  \n",
       "2  Ringway House is located in a really convenien...  \n",
       "3  I love this place been a blast since I moved i...  \n",
       "4  Great staff for the most part, but very unplea...  \n",
       "5  Lovely management with lovely management, woul...  "
      ]
     },
     "execution_count": 49,
     "metadata": {},
     "output_type": "execute_result"
    }
   ],
   "source": [
    "#99999999999999999999999999999999999999999999999999999999999999999999999999999999\n",
    "df = pd.DataFrame(list(zip(Value_for_money, Location, \n",
    "                           Property_management, Cleaning, Social_spaces, \n",
    "                           Social_experience, Internet, review_list)),\n",
    "                  columns=['Value_for_money','Location', 'Property_management', \n",
    "                           'Cleaning', 'Social_spaces', 'Social_experience', \n",
    "                           'Internet', 'Review'])"
   ]
  }
 ],
 "metadata": {
  "kernelspec": {
   "display_name": "Python 3",
   "language": "python",
   "name": "python3"
  },
  "language_info": {
   "codemirror_mode": {
    "name": "ipython",
    "version": 3
   },
   "file_extension": ".py",
   "mimetype": "text/x-python",
   "name": "python",
   "nbconvert_exporter": "python",
   "pygments_lexer": "ipython3",
   "version": "3.8.8"
  }
 },
 "nbformat": 4,
 "nbformat_minor": 5
}
